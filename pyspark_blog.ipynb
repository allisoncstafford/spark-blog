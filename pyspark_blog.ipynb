{
 "cells": [
  {
   "cell_type": "markdown",
   "metadata": {},
   "source": [
    "## A little bit of pre-work (cheating?) to get data into a better form - spark wasn't reading in the csv correctly..."
   ]
  },
  {
   "cell_type": "code",
   "execution_count": 1,
   "metadata": {},
   "outputs": [],
   "source": [
    "import pandas as pd"
   ]
  },
  {
   "cell_type": "code",
   "execution_count": 2,
   "metadata": {},
   "outputs": [
    {
     "name": "stderr",
     "output_type": "stream",
     "text": [
      "//anaconda3/envs/pyspark-env/lib/python3.7/site-packages/IPython/core/interactiveshell.py:3058: DtypeWarning: Columns (6,10,16) have mixed types. Specify dtype option on import or set low_memory=False.\n",
      "  interactivity=interactivity, compiler=compiler, result=result)\n"
     ]
    }
   ],
   "source": [
    "pd_df = pd.read_csv('../data/Consumer_Complaints.csv')"
   ]
  },
  {
   "cell_type": "code",
   "execution_count": 3,
   "metadata": {
    "scrolled": true
   },
   "outputs": [
    {
     "data": {
      "text/plain": [
       "Date received                   1474568\n",
       "Product                         1474568\n",
       "Sub-product                     1239403\n",
       "Issue                           1474568\n",
       "Sub-issue                        919291\n",
       "Consumer complaint narrative     482567\n",
       "Company public response          550042\n",
       "Company                         1474568\n",
       "State                           1450021\n",
       "ZIP code                        1337072\n",
       "Tags                             200924\n",
       "Consumer consent provided?       865482\n",
       "Submitted via                   1474568\n",
       "Date sent to company            1474568\n",
       "Company response to consumer    1474567\n",
       "Timely response?                1474568\n",
       "Consumer disputed?               768480\n",
       "Complaint ID                    1474568\n",
       "dtype: int64"
      ]
     },
     "execution_count": 3,
     "metadata": {},
     "output_type": "execute_result"
    }
   ],
   "source": [
    "pd_df.count()"
   ]
  },
  {
   "cell_type": "code",
   "execution_count": 4,
   "metadata": {
    "scrolled": true
   },
   "outputs": [
    {
     "data": {
      "text/html": [
       "<div>\n",
       "<style scoped>\n",
       "    .dataframe tbody tr th:only-of-type {\n",
       "        vertical-align: middle;\n",
       "    }\n",
       "\n",
       "    .dataframe tbody tr th {\n",
       "        vertical-align: top;\n",
       "    }\n",
       "\n",
       "    .dataframe thead th {\n",
       "        text-align: right;\n",
       "    }\n",
       "</style>\n",
       "<table border=\"1\" class=\"dataframe\">\n",
       "  <thead>\n",
       "    <tr style=\"text-align: right;\">\n",
       "      <th></th>\n",
       "      <th>0</th>\n",
       "      <th>1</th>\n",
       "      <th>2</th>\n",
       "      <th>3</th>\n",
       "      <th>4</th>\n",
       "    </tr>\n",
       "  </thead>\n",
       "  <tbody>\n",
       "    <tr>\n",
       "      <td>Date received</td>\n",
       "      <td>08/09/2015</td>\n",
       "      <td>02/06/2014</td>\n",
       "      <td>01/29/2019</td>\n",
       "      <td>11/03/2019</td>\n",
       "      <td>08/19/2015</td>\n",
       "    </tr>\n",
       "    <tr>\n",
       "      <td>Product</td>\n",
       "      <td>Credit reporting</td>\n",
       "      <td>Mortgage</td>\n",
       "      <td>Credit reporting, credit repair services, or o...</td>\n",
       "      <td>Credit reporting, credit repair services, or o...</td>\n",
       "      <td>Mortgage</td>\n",
       "    </tr>\n",
       "    <tr>\n",
       "      <td>Sub-product</td>\n",
       "      <td>NaN</td>\n",
       "      <td>Other mortgage</td>\n",
       "      <td>Credit reporting</td>\n",
       "      <td>Credit reporting</td>\n",
       "      <td>Conventional adjustable mortgage (ARM)</td>\n",
       "    </tr>\n",
       "    <tr>\n",
       "      <td>Issue</td>\n",
       "      <td>Incorrect information on credit report</td>\n",
       "      <td>Loan modification,collection,foreclosure</td>\n",
       "      <td>Problem with a credit reporting company's inve...</td>\n",
       "      <td>Problem with a credit reporting company's inve...</td>\n",
       "      <td>Loan servicing, payments, escrow account</td>\n",
       "    </tr>\n",
       "    <tr>\n",
       "      <td>Sub-issue</td>\n",
       "      <td>Information is not mine</td>\n",
       "      <td>NaN</td>\n",
       "      <td>Was not notified of investigation status or re...</td>\n",
       "      <td>Their investigation did not fix an error on yo...</td>\n",
       "      <td>NaN</td>\n",
       "    </tr>\n",
       "    <tr>\n",
       "      <td>Consumer complaint narrative</td>\n",
       "      <td>NaN</td>\n",
       "      <td>NaN</td>\n",
       "      <td>NaN</td>\n",
       "      <td>NaN</td>\n",
       "      <td>NaN</td>\n",
       "    </tr>\n",
       "    <tr>\n",
       "      <td>Company public response</td>\n",
       "      <td>Company chooses not to provide a public response</td>\n",
       "      <td>NaN</td>\n",
       "      <td>NaN</td>\n",
       "      <td>NaN</td>\n",
       "      <td>Company chooses not to provide a public response</td>\n",
       "    </tr>\n",
       "    <tr>\n",
       "      <td>Company</td>\n",
       "      <td>Experian Information Solutions Inc.</td>\n",
       "      <td>Ocwen Financial Corporation</td>\n",
       "      <td>EQUIFAX, INC.</td>\n",
       "      <td>EQUIFAX, INC.</td>\n",
       "      <td>WELLS FARGO &amp; COMPANY</td>\n",
       "    </tr>\n",
       "    <tr>\n",
       "      <td>State</td>\n",
       "      <td>NJ</td>\n",
       "      <td>CA</td>\n",
       "      <td>NY</td>\n",
       "      <td>SC</td>\n",
       "      <td>CA</td>\n",
       "    </tr>\n",
       "    <tr>\n",
       "      <td>ZIP code</td>\n",
       "      <td>08872</td>\n",
       "      <td>939XX</td>\n",
       "      <td>10801</td>\n",
       "      <td>290XX</td>\n",
       "      <td>94526</td>\n",
       "    </tr>\n",
       "    <tr>\n",
       "      <td>Tags</td>\n",
       "      <td>NaN</td>\n",
       "      <td>NaN</td>\n",
       "      <td>NaN</td>\n",
       "      <td>NaN</td>\n",
       "      <td>NaN</td>\n",
       "    </tr>\n",
       "    <tr>\n",
       "      <td>Consumer consent provided?</td>\n",
       "      <td>Consent not provided</td>\n",
       "      <td>NaN</td>\n",
       "      <td>Consent not provided</td>\n",
       "      <td>Consent not provided</td>\n",
       "      <td>Consent not provided</td>\n",
       "    </tr>\n",
       "    <tr>\n",
       "      <td>Submitted via</td>\n",
       "      <td>Web</td>\n",
       "      <td>Referral</td>\n",
       "      <td>Web</td>\n",
       "      <td>Web</td>\n",
       "      <td>Web</td>\n",
       "    </tr>\n",
       "    <tr>\n",
       "      <td>Date sent to company</td>\n",
       "      <td>08/09/2015</td>\n",
       "      <td>02/10/2014</td>\n",
       "      <td>01/30/2019</td>\n",
       "      <td>11/03/2019</td>\n",
       "      <td>08/19/2015</td>\n",
       "    </tr>\n",
       "    <tr>\n",
       "      <td>Company response to consumer</td>\n",
       "      <td>Closed with non-monetary relief</td>\n",
       "      <td>Closed with explanation</td>\n",
       "      <td>Closed with non-monetary relief</td>\n",
       "      <td>Closed with explanation</td>\n",
       "      <td>Closed with explanation</td>\n",
       "    </tr>\n",
       "    <tr>\n",
       "      <td>Timely response?</td>\n",
       "      <td>Yes</td>\n",
       "      <td>Yes</td>\n",
       "      <td>Yes</td>\n",
       "      <td>Yes</td>\n",
       "      <td>Yes</td>\n",
       "    </tr>\n",
       "    <tr>\n",
       "      <td>Consumer disputed?</td>\n",
       "      <td>No</td>\n",
       "      <td>No</td>\n",
       "      <td>NaN</td>\n",
       "      <td>NaN</td>\n",
       "      <td>No</td>\n",
       "    </tr>\n",
       "    <tr>\n",
       "      <td>Complaint ID</td>\n",
       "      <td>1509954</td>\n",
       "      <td>700599</td>\n",
       "      <td>3136759</td>\n",
       "      <td>3426837</td>\n",
       "      <td>1527601</td>\n",
       "    </tr>\n",
       "  </tbody>\n",
       "</table>\n",
       "</div>"
      ],
      "text/plain": [
       "                                                                             0  \\\n",
       "Date received                                                       08/09/2015   \n",
       "Product                                                       Credit reporting   \n",
       "Sub-product                                                                NaN   \n",
       "Issue                                   Incorrect information on credit report   \n",
       "Sub-issue                                              Information is not mine   \n",
       "Consumer complaint narrative                                               NaN   \n",
       "Company public response       Company chooses not to provide a public response   \n",
       "Company                                    Experian Information Solutions Inc.   \n",
       "State                                                                       NJ   \n",
       "ZIP code                                                                 08872   \n",
       "Tags                                                                       NaN   \n",
       "Consumer consent provided?                                Consent not provided   \n",
       "Submitted via                                                              Web   \n",
       "Date sent to company                                                08/09/2015   \n",
       "Company response to consumer                   Closed with non-monetary relief   \n",
       "Timely response?                                                           Yes   \n",
       "Consumer disputed?                                                          No   \n",
       "Complaint ID                                                           1509954   \n",
       "\n",
       "                                                                     1  \\\n",
       "Date received                                               02/06/2014   \n",
       "Product                                                       Mortgage   \n",
       "Sub-product                                             Other mortgage   \n",
       "Issue                         Loan modification,collection,foreclosure   \n",
       "Sub-issue                                                          NaN   \n",
       "Consumer complaint narrative                                       NaN   \n",
       "Company public response                                            NaN   \n",
       "Company                                    Ocwen Financial Corporation   \n",
       "State                                                               CA   \n",
       "ZIP code                                                         939XX   \n",
       "Tags                                                               NaN   \n",
       "Consumer consent provided?                                         NaN   \n",
       "Submitted via                                                 Referral   \n",
       "Date sent to company                                        02/10/2014   \n",
       "Company response to consumer                   Closed with explanation   \n",
       "Timely response?                                                   Yes   \n",
       "Consumer disputed?                                                  No   \n",
       "Complaint ID                                                    700599   \n",
       "\n",
       "                                                                              2  \\\n",
       "Date received                                                        01/29/2019   \n",
       "Product                       Credit reporting, credit repair services, or o...   \n",
       "Sub-product                                                    Credit reporting   \n",
       "Issue                         Problem with a credit reporting company's inve...   \n",
       "Sub-issue                     Was not notified of investigation status or re...   \n",
       "Consumer complaint narrative                                                NaN   \n",
       "Company public response                                                     NaN   \n",
       "Company                                                           EQUIFAX, INC.   \n",
       "State                                                                        NY   \n",
       "ZIP code                                                                  10801   \n",
       "Tags                                                                        NaN   \n",
       "Consumer consent provided?                                 Consent not provided   \n",
       "Submitted via                                                               Web   \n",
       "Date sent to company                                                 01/30/2019   \n",
       "Company response to consumer                    Closed with non-monetary relief   \n",
       "Timely response?                                                            Yes   \n",
       "Consumer disputed?                                                          NaN   \n",
       "Complaint ID                                                            3136759   \n",
       "\n",
       "                                                                              3  \\\n",
       "Date received                                                        11/03/2019   \n",
       "Product                       Credit reporting, credit repair services, or o...   \n",
       "Sub-product                                                    Credit reporting   \n",
       "Issue                         Problem with a credit reporting company's inve...   \n",
       "Sub-issue                     Their investigation did not fix an error on yo...   \n",
       "Consumer complaint narrative                                                NaN   \n",
       "Company public response                                                     NaN   \n",
       "Company                                                           EQUIFAX, INC.   \n",
       "State                                                                        SC   \n",
       "ZIP code                                                                  290XX   \n",
       "Tags                                                                        NaN   \n",
       "Consumer consent provided?                                 Consent not provided   \n",
       "Submitted via                                                               Web   \n",
       "Date sent to company                                                 11/03/2019   \n",
       "Company response to consumer                            Closed with explanation   \n",
       "Timely response?                                                            Yes   \n",
       "Consumer disputed?                                                          NaN   \n",
       "Complaint ID                                                            3426837   \n",
       "\n",
       "                                                                             4  \n",
       "Date received                                                       08/19/2015  \n",
       "Product                                                               Mortgage  \n",
       "Sub-product                             Conventional adjustable mortgage (ARM)  \n",
       "Issue                                 Loan servicing, payments, escrow account  \n",
       "Sub-issue                                                                  NaN  \n",
       "Consumer complaint narrative                                               NaN  \n",
       "Company public response       Company chooses not to provide a public response  \n",
       "Company                                                  WELLS FARGO & COMPANY  \n",
       "State                                                                       CA  \n",
       "ZIP code                                                                 94526  \n",
       "Tags                                                                       NaN  \n",
       "Consumer consent provided?                                Consent not provided  \n",
       "Submitted via                                                              Web  \n",
       "Date sent to company                                                08/19/2015  \n",
       "Company response to consumer                           Closed with explanation  \n",
       "Timely response?                                                           Yes  \n",
       "Consumer disputed?                                                          No  \n",
       "Complaint ID                                                           1527601  "
      ]
     },
     "execution_count": 4,
     "metadata": {},
     "output_type": "execute_result"
    }
   ],
   "source": [
    "pd_df.head(5).T"
   ]
  },
  {
   "cell_type": "markdown",
   "metadata": {},
   "source": [
    "## Saving csv as paraquet to see if it solves csv reading problem\n",
    "### you need to conda install pyarrow or fastparquet"
   ]
  },
  {
   "cell_type": "markdown",
   "metadata": {},
   "source": [
    "First, I'll fix some column names - Spark / Paraquet doesn't work well with spaces."
   ]
  },
  {
   "cell_type": "code",
   "execution_count": 5,
   "metadata": {},
   "outputs": [],
   "source": [
    "pd_df.columns = [col.lower().replace(' ', '_') for col in pd_df.columns]"
   ]
  },
  {
   "cell_type": "code",
   "execution_count": 6,
   "metadata": {},
   "outputs": [],
   "source": [
    "pd_df.to_parquet('../data/consumer_complaints.parquet')"
   ]
  },
  {
   "cell_type": "markdown",
   "metadata": {},
   "source": [
    "## Now we're ready to take Spark's DataFrames for a spin\n",
    "\n",
    "### Import necessary packages"
   ]
  },
  {
   "cell_type": "code",
   "execution_count": 7,
   "metadata": {},
   "outputs": [],
   "source": [
    "import pyspark"
   ]
  },
  {
   "cell_type": "markdown",
   "metadata": {},
   "source": [
    "With base Spark, you would start with a SparkContext - sets up your Spark application by connecting to the execution environment. For example, if the execution environment is running on my local machine with all cores.\n",
    "\n",
    "But for Spark DataFrames, you'll need a SparkSession, and it will set up the context for you."
   ]
  },
  {
   "cell_type": "code",
   "execution_count": 8,
   "metadata": {},
   "outputs": [],
   "source": [
    "# sc = pyspark.SparkContext('local[*]')"
   ]
  },
  {
   "cell_type": "markdown",
   "metadata": {},
   "source": [
    "## To make a data frame, DON'T make your SparkContext first, instead, allow the SparkSession to establish the connection"
   ]
  },
  {
   "cell_type": "code",
   "execution_count": 9,
   "metadata": {},
   "outputs": [],
   "source": [
    "spark = pyspark.sql.SparkSession \\\n",
    "    .builder \\\n",
    "    .master('local[*]') \\\n",
    "    .appName(\"Python Spark Consumer Complaints example\") \\\n",
    "    .getOrCreate()"
   ]
  },
  {
   "cell_type": "markdown",
   "metadata": {},
   "source": [
    "Quick Check of the Number of Cores I'm using"
   ]
  },
  {
   "cell_type": "code",
   "execution_count": 10,
   "metadata": {
    "scrolled": true
   },
   "outputs": [
    {
     "data": {
      "text/plain": [
       "4"
      ]
     },
     "execution_count": 10,
     "metadata": {},
     "output_type": "execute_result"
    }
   ],
   "source": [
    "spark.sparkContext.defaultParallelism"
   ]
  },
  {
   "cell_type": "markdown",
   "metadata": {},
   "source": [
    "## Import data from parquet into DataFrame"
   ]
  },
  {
   "cell_type": "code",
   "execution_count": 11,
   "metadata": {},
   "outputs": [],
   "source": [
    "df = spark.read.load('../data/consumer_complaints.parquet',\n",
    "                     inferSchema=\"true\", header=\"true\")"
   ]
  },
  {
   "cell_type": "code",
   "execution_count": 12,
   "metadata": {},
   "outputs": [
    {
     "data": {
      "text/plain": [
       "[('date_received', 'string'),\n",
       " ('product', 'string'),\n",
       " ('sub-product', 'string'),\n",
       " ('issue', 'string'),\n",
       " ('sub-issue', 'string'),\n",
       " ('consumer_complaint_narrative', 'string'),\n",
       " ('company_public_response', 'string'),\n",
       " ('company', 'string'),\n",
       " ('state', 'string'),\n",
       " ('zip_code', 'string'),\n",
       " ('tags', 'string'),\n",
       " ('consumer_consent_provided?', 'string'),\n",
       " ('submitted_via', 'string'),\n",
       " ('date_sent_to_company', 'string'),\n",
       " ('company_response_to_consumer', 'string'),\n",
       " ('timely_response?', 'string'),\n",
       " ('consumer_disputed?', 'string'),\n",
       " ('complaint_id', 'bigint')]"
      ]
     },
     "execution_count": 12,
     "metadata": {},
     "output_type": "execute_result"
    }
   ],
   "source": [
    "df.dtypes"
   ]
  },
  {
   "cell_type": "code",
   "execution_count": 13,
   "metadata": {},
   "outputs": [
    {
     "data": {
      "text/plain": [
       "Row(date_received='08/09/2015', product='Credit reporting', sub-product=None, issue='Incorrect information on credit report', sub-issue='Information is not mine', consumer_complaint_narrative=None, company_public_response='Company chooses not to provide a public response', company='Experian Information Solutions Inc.', state='NJ', zip_code='08872', tags=None, consumer_consent_provided?='Consent not provided', submitted_via='Web', date_sent_to_company='08/09/2015', company_response_to_consumer='Closed with non-monetary relief', timely_response?='Yes', consumer_disputed?='No', complaint_id=1509954)"
      ]
     },
     "execution_count": 13,
     "metadata": {},
     "output_type": "execute_result"
    }
   ],
   "source": [
    "df.head()"
   ]
  },
  {
   "cell_type": "code",
   "execution_count": 14,
   "metadata": {},
   "outputs": [
    {
     "data": {
      "text/plain": [
       "1474568"
      ]
     },
     "execution_count": 14,
     "metadata": {},
     "output_type": "execute_result"
    }
   ],
   "source": [
    "df.count()"
   ]
  },
  {
   "cell_type": "code",
   "execution_count": 15,
   "metadata": {},
   "outputs": [
    {
     "data": {
      "text/plain": [
       "[Row(date_received='08/09/2015', company='Experian Information Solutions Inc.'),\n",
       " Row(date_received='02/06/2014', company='Ocwen Financial Corporation'),\n",
       " Row(date_received='01/29/2019', company='EQUIFAX, INC.'),\n",
       " Row(date_received='11/03/2019', company='EQUIFAX, INC.'),\n",
       " Row(date_received='08/19/2015', company='WELLS FARGO & COMPANY')]"
      ]
     },
     "execution_count": 15,
     "metadata": {},
     "output_type": "execute_result"
    }
   ],
   "source": [
    "companies = df[['date_received', 'company']]\n",
    "companies.head(5)"
   ]
  },
  {
   "cell_type": "markdown",
   "metadata": {},
   "source": [
    "SQL-style viewing of dataframe head"
   ]
  },
  {
   "cell_type": "code",
   "execution_count": 16,
   "metadata": {},
   "outputs": [
    {
     "name": "stdout",
     "output_type": "stream",
     "text": [
      "-RECORD 0--------------------------------------------------------------------------------------------------------\n",
      " date_received                | 08/09/2015                                                                       \n",
      " product                      | Credit reporting                                                                 \n",
      " sub-product                  | null                                                                             \n",
      " issue                        | Incorrect information on credit report                                           \n",
      " sub-issue                    | Information is not mine                                                          \n",
      " consumer_complaint_narrative | null                                                                             \n",
      " company_public_response      | Company chooses not to provide a public response                                 \n",
      " company                      | Experian Information Solutions Inc.                                              \n",
      " state                        | NJ                                                                               \n",
      " zip_code                     | 08872                                                                            \n",
      " tags                         | null                                                                             \n",
      " consumer_consent_provided?   | Consent not provided                                                             \n",
      " submitted_via                | Web                                                                              \n",
      " date_sent_to_company         | 08/09/2015                                                                       \n",
      " company_response_to_consumer | Closed with non-monetary relief                                                  \n",
      " timely_response?             | Yes                                                                              \n",
      " consumer_disputed?           | No                                                                               \n",
      " complaint_id                 | 1509954                                                                          \n",
      "-RECORD 1--------------------------------------------------------------------------------------------------------\n",
      " date_received                | 02/06/2014                                                                       \n",
      " product                      | Mortgage                                                                         \n",
      " sub-product                  | Other mortgage                                                                   \n",
      " issue                        | Loan modification,collection,foreclosure                                         \n",
      " sub-issue                    | null                                                                             \n",
      " consumer_complaint_narrative | null                                                                             \n",
      " company_public_response      | null                                                                             \n",
      " company                      | Ocwen Financial Corporation                                                      \n",
      " state                        | CA                                                                               \n",
      " zip_code                     | 939XX                                                                            \n",
      " tags                         | null                                                                             \n",
      " consumer_consent_provided?   | null                                                                             \n",
      " submitted_via                | Referral                                                                         \n",
      " date_sent_to_company         | 02/10/2014                                                                       \n",
      " company_response_to_consumer | Closed with explanation                                                          \n",
      " timely_response?             | Yes                                                                              \n",
      " consumer_disputed?           | No                                                                               \n",
      " complaint_id                 | 700599                                                                           \n",
      "-RECORD 2--------------------------------------------------------------------------------------------------------\n",
      " date_received                | 01/29/2019                                                                       \n",
      " product                      | Credit reporting, credit repair services, or other personal consumer reports     \n",
      " sub-product                  | Credit reporting                                                                 \n",
      " issue                        | Problem with a credit reporting company's investigation into an existing problem \n",
      " sub-issue                    | Was not notified of investigation status or results                              \n",
      " consumer_complaint_narrative | null                                                                             \n",
      " company_public_response      | null                                                                             \n",
      " company                      | EQUIFAX, INC.                                                                    \n",
      " state                        | NY                                                                               \n",
      " zip_code                     | 10801                                                                            \n",
      " tags                         | null                                                                             \n",
      " consumer_consent_provided?   | Consent not provided                                                             \n",
      " submitted_via                | Web                                                                              \n",
      " date_sent_to_company         | 01/30/2019                                                                       \n",
      " company_response_to_consumer | Closed with non-monetary relief                                                  \n",
      " timely_response?             | Yes                                                                              \n",
      " consumer_disputed?           | null                                                                             \n",
      " complaint_id                 | 3136759                                                                          \n",
      "-RECORD 3--------------------------------------------------------------------------------------------------------\n",
      " date_received                | 11/03/2019                                                                       \n",
      " product                      | Credit reporting, credit repair services, or other personal consumer reports     \n",
      " sub-product                  | Credit reporting                                                                 \n",
      " issue                        | Problem with a credit reporting company's investigation into an existing problem \n",
      " sub-issue                    | Their investigation did not fix an error on your report                          \n",
      " consumer_complaint_narrative | null                                                                             \n",
      " company_public_response      | null                                                                             \n",
      " company                      | EQUIFAX, INC.                                                                    \n",
      " state                        | SC                                                                               \n",
      " zip_code                     | 290XX                                                                            \n",
      " tags                         | null                                                                             \n",
      " consumer_consent_provided?   | Consent not provided                                                             \n",
      " submitted_via                | Web                                                                              \n",
      " date_sent_to_company         | 11/03/2019                                                                       \n",
      " company_response_to_consumer | Closed with explanation                                                          \n",
      " timely_response?             | Yes                                                                              \n",
      " consumer_disputed?           | null                                                                             \n",
      " complaint_id                 | 3426837                                                                          \n",
      "-RECORD 4--------------------------------------------------------------------------------------------------------\n",
      " date_received                | 08/19/2015                                                                       \n",
      " product                      | Mortgage                                                                         \n",
      " sub-product                  | Conventional adjustable mortgage (ARM)                                           \n",
      " issue                        | Loan servicing, payments, escrow account                                         \n",
      " sub-issue                    | null                                                                             \n",
      " consumer_complaint_narrative | null                                                                             \n",
      " company_public_response      | Company chooses not to provide a public response                                 \n",
      " company                      | WELLS FARGO & COMPANY                                                            \n",
      " state                        | CA                                                                               \n",
      " zip_code                     | 94526                                                                            \n",
      " tags                         | null                                                                             \n",
      " consumer_consent_provided?   | Consent not provided                                                             \n",
      " submitted_via                | Web                                                                              \n",
      " date_sent_to_company         | 08/19/2015                                                                       \n",
      " company_response_to_consumer | Closed with explanation                                                          \n",
      " timely_response?             | Yes                                                                              \n",
      " consumer_disputed?           | No                                                                               \n",
      " complaint_id                 | 1527601                                                                          \n",
      "only showing top 5 rows\n",
      "\n"
     ]
    }
   ],
   "source": [
    "df.show(n=5, truncate=False, vertical=True)\n"
   ]
  },
  {
   "cell_type": "code",
   "execution_count": 17,
   "metadata": {},
   "outputs": [
    {
     "name": "stdout",
     "output_type": "stream",
     "text": [
      "+-------------+-----------------------------------+\n",
      "|date_received|company                            |\n",
      "+-------------+-----------------------------------+\n",
      "|08/09/2015   |Experian Information Solutions Inc.|\n",
      "|02/06/2014   |Ocwen Financial Corporation        |\n",
      "|01/29/2019   |EQUIFAX, INC.                      |\n",
      "|11/03/2019   |EQUIFAX, INC.                      |\n",
      "|08/19/2015   |WELLS FARGO & COMPANY              |\n",
      "+-------------+-----------------------------------+\n",
      "only showing top 5 rows\n",
      "\n"
     ]
    }
   ],
   "source": [
    "companies.show(n=5, truncate=False)"
   ]
  },
  {
   "cell_type": "markdown",
   "metadata": {},
   "source": [
    "## Now that we have our data frame, let's go ahead and use it to answer some questions:\n",
    "\n",
    "* Which companies got the most complaints?\n",
    "* What time frame are we looking at?\n",
    "* How many complaints do we have total? Per day?\n",
    "* How are the complaints received?\n",
    "* Are the responses timely?\n",
    "* Do they get disputed?"
   ]
  },
  {
   "cell_type": "markdown",
   "metadata": {},
   "source": [
    "#### Companies with the most complaints"
   ]
  },
  {
   "cell_type": "code",
   "execution_count": 18,
   "metadata": {},
   "outputs": [],
   "source": [
    "company_counts = df.groupBy('company').count()\n",
    "\n",
    "company_counts_for_graph = company_counts.filter(company_counts['count'] >1000) \\\n",
    "    .sort('count', ascending=False).toPandas()\n"
   ]
  },
  {
   "cell_type": "code",
   "execution_count": 19,
   "metadata": {},
   "outputs": [
    {
     "data": {
      "text/plain": [
       "['EQUIFAX, INC.',\n",
       " 'Experian Information Solutions Inc.',\n",
       " 'TRANSUNION INTERMEDIATE HOLDINGS, INC.',\n",
       " 'BANK OF AMERICA, NATIONAL ASSOCIATION',\n",
       " 'WELLS FARGO & COMPANY',\n",
       " 'JPMORGAN CHASE & CO.',\n",
       " 'CITIBANK, N.A.',\n",
       " 'CAPITAL ONE FINANCIAL CORPORATION',\n",
       " 'Navient Solutions, LLC.',\n",
       " 'Ocwen Financial Corporation',\n",
       " 'SYNCHRONY FINANCIAL',\n",
       " 'NATIONSTAR MORTGAGE',\n",
       " 'U.S. BANCORP',\n",
       " 'AMERICAN EXPRESS COMPANY',\n",
       " 'Ditech Financial LLC',\n",
       " 'PNC Bank N.A.',\n",
       " 'ENCORE CAPITAL GROUP INC.',\n",
       " 'PORTFOLIO RECOVERY ASSOCIATES INC',\n",
       " 'DISCOVER BANK',\n",
       " 'TD BANK US HOLDING COMPANY']"
      ]
     },
     "execution_count": 19,
     "metadata": {},
     "output_type": "execute_result"
    }
   ],
   "source": [
    "list(company_counts_for_graph[0:20]['company'])"
   ]
  },
  {
   "cell_type": "code",
   "execution_count": 20,
   "metadata": {},
   "outputs": [],
   "source": [
    "from matplotlib import pyplot as plt\n",
    "from matplotlib import rcParams\n",
    "rcParams.update({'figure.autolayout': True})"
   ]
  },
  {
   "cell_type": "code",
   "execution_count": 21,
   "metadata": {},
   "outputs": [
    {
     "name": "stderr",
     "output_type": "stream",
     "text": [
      "//anaconda3/envs/pyspark-env/lib/python3.7/site-packages/ipykernel_launcher.py:2: SettingWithCopyWarning: \n",
      "A value is trying to be set on a copy of a slice from a DataFrame.\n",
      "Try using .loc[row_indexer,col_indexer] = value instead\n",
      "\n",
      "See the caveats in the documentation: http://pandas.pydata.org/pandas-docs/stable/user_guide/indexing.html#returning-a-view-versus-a-copy\n",
      "  \n"
     ]
    },
    {
     "data": {
      "image/png": "[encoded data removed]",
      "text/plain": [
       "<Figure size 720x432 with 1 Axes>"
      ]
     },
     "metadata": {
      "needs_background": "light"
     },
     "output_type": "display_data"
    }
   ],
   "source": [
    "counts = company_counts_for_graph[0:20]\n",
    "counts['company'] = [x.title() for x in counts['company']]\n",
    "\n",
    "fig, ax = plt.subplots(figsize=(10, 6))\n",
    "ax.barh(y=counts['company'], \n",
    "       width=counts['count'])\n",
    "ax.set_title(\"Top Companies for Financial Consumer Complaints\")\n",
    "ax.set_xlabel(\"Number of Complaints\")\n",
    "plt.xticks(rotation=90)\n",
    "ax.invert_yaxis()\n",
    "\n",
    "plt.savefig('images/company_counts.png')"
   ]
  },
  {
   "cell_type": "markdown",
   "metadata": {},
   "source": [
    "### Get First and Last Dates"
   ]
  },
  {
   "cell_type": "code",
   "execution_count": 22,
   "metadata": {},
   "outputs": [
    {
     "data": {
      "text/plain": [
       "[Row(date=datetime.date(2011, 12, 1))]"
      ]
     },
     "execution_count": 22,
     "metadata": {},
     "output_type": "execute_result"
    }
   ],
   "source": [
    "from pyspark.sql.functions import to_date\n",
    "\n",
    "first_date = df.select(to_date(df.date_received, 'MM/dd/yyyy').alias('date')) \\\n",
    "    .orderBy('date').take(1)\n",
    "first_date"
   ]
  },
  {
   "cell_type": "code",
   "execution_count": 23,
   "metadata": {},
   "outputs": [
    {
     "data": {
      "text/plain": [
       "[Row(date=datetime.date(2020, 1, 12))]"
      ]
     },
     "execution_count": 23,
     "metadata": {},
     "output_type": "execute_result"
    }
   ],
   "source": [
    "last_date = df.select(to_date(df.date_received, 'MM/dd/yyyy').alias('date')) \\\n",
    "    .orderBy('date', ascending=False).take(1)\n",
    "last_date"
   ]
  },
  {
   "cell_type": "markdown",
   "metadata": {},
   "source": [
    "#### Get Complaints total, average day, per day"
   ]
  },
  {
   "cell_type": "code",
   "execution_count": 24,
   "metadata": {},
   "outputs": [],
   "source": [
    "days = last_date[0]['date']-first_date[0]['date']"
   ]
  },
  {
   "cell_type": "code",
   "execution_count": 25,
   "metadata": {},
   "outputs": [
    {
     "data": {
      "text/plain": [
       "datetime.timedelta(days=2964)"
      ]
     },
     "execution_count": 25,
     "metadata": {},
     "output_type": "execute_result"
    }
   ],
   "source": [
    "days"
   ]
  },
  {
   "cell_type": "code",
   "execution_count": 26,
   "metadata": {},
   "outputs": [
    {
     "data": {
      "text/plain": [
       "1474568"
      ]
     },
     "execution_count": 26,
     "metadata": {},
     "output_type": "execute_result"
    }
   ],
   "source": [
    "df.count()"
   ]
  },
  {
   "cell_type": "code",
   "execution_count": 27,
   "metadata": {},
   "outputs": [
    {
     "data": {
      "text/plain": [
       "497.49257759784075"
      ]
     },
     "execution_count": 27,
     "metadata": {},
     "output_type": "execute_result"
    }
   ],
   "source": [
    "df.count()/days.days"
   ]
  },
  {
   "cell_type": "code",
   "execution_count": 28,
   "metadata": {},
   "outputs": [],
   "source": [
    "dates = df.select(to_date(df.date_received, 'MM/dd/yyyy').alias('date'))"
   ]
  },
  {
   "cell_type": "code",
   "execution_count": 29,
   "metadata": {},
   "outputs": [
    {
     "name": "stdout",
     "output_type": "stream",
     "text": [
      "+----------+\n",
      "|      date|\n",
      "+----------+\n",
      "|2011-12-01|\n",
      "|2011-12-01|\n",
      "|2011-12-01|\n",
      "|2011-12-01|\n",
      "|2011-12-01|\n",
      "|2011-12-01|\n",
      "|2011-12-01|\n",
      "|2011-12-01|\n",
      "|2011-12-01|\n",
      "|2011-12-01|\n",
      "+----------+\n",
      "only showing top 10 rows\n",
      "\n"
     ]
    }
   ],
   "source": [
    "dates.sort('date').show(10)"
   ]
  },
  {
   "cell_type": "code",
   "execution_count": 30,
   "metadata": {},
   "outputs": [],
   "source": [
    "complaints_per_day_pd = dates.groupBy('date').count().sort('date').toPandas()"
   ]
  },
  {
   "cell_type": "code",
   "execution_count": 31,
   "metadata": {
    "scrolled": true
   },
   "outputs": [
    {
     "name": "stderr",
     "output_type": "stream",
     "text": [
      "//anaconda3/envs/pyspark-env/lib/python3.7/site-packages/pandas/plotting/_matplotlib/converter.py:103: FutureWarning: Using an implicitly registered datetime converter for a matplotlib plotting method. The converter was registered by pandas on import. Future versions of pandas will require you to explicitly register matplotlib converters.\n",
      "\n",
      "To register the converters:\n",
      "\t>>> from pandas.plotting import register_matplotlib_converters\n",
      "\t>>> register_matplotlib_converters()\n",
      "  warnings.warn(msg, FutureWarning)\n"
     ]
    },
    {
     "data": {
      "image/png": "[encoded data removed]",
      "text/plain": [
       "<Figure size 720x432 with 1 Axes>"
      ]
     },
     "metadata": {
      "needs_background": "light"
     },
     "output_type": "display_data"
    }
   ],
   "source": [
    "fig, ax = plt.subplots(figsize=(10, 6))\n",
    "ax.plot(complaints_per_day_pd['date'], complaints_per_day_pd['count'])\n",
    "ax.set_title(\"Complaints Per Day\")\n",
    "ax.set_xlabel(\"Day\")\n",
    "ax.set_ylabel(\"Number of Complaints\")\n",
    "\n",
    "plt.savefig('images/daily_complaints.png')\n",
    "plt.show();"
   ]
  },
  {
   "cell_type": "code",
   "execution_count": 32,
   "metadata": {
    "scrolled": false
   },
   "outputs": [
    {
     "name": "stdout",
     "output_type": "stream",
     "text": [
      "+----------+-----+\n",
      "|      date|count|\n",
      "+----------+-----+\n",
      "|2017-01-19| 2070|\n",
      "|2017-01-20| 1633|\n",
      "|2017-09-08| 3553|\n",
      "|2017-09-09| 2709|\n",
      "|2017-09-13| 1600|\n",
      "+----------+-----+\n",
      "\n"
     ]
    }
   ],
   "source": [
    "daily_complaint_counts = dates.groupBy('date').count()\n",
    "daily_complaint_counts.filter(daily_complaint_counts['count'] > 1500) \\\n",
    "    .orderBy('date').show()"
   ]
  },
  {
   "cell_type": "markdown",
   "metadata": {},
   "source": [
    "#### How are the complaints recieved?\n",
    "#### Are the responses timely?\n",
    "#### Do they get disputed?"
   ]
  },
  {
   "cell_type": "code",
   "execution_count": 33,
   "metadata": {},
   "outputs": [
    {
     "name": "stdout",
     "output_type": "stream",
     "text": [
      "+-------------+-------+\n",
      "|submitted_via|  count|\n",
      "+-------------+-------+\n",
      "|          Web|1106079|\n",
      "|     Referral| 187007|\n",
      "|        Phone|  88292|\n",
      "|  Postal mail|  72485|\n",
      "|          Fax|  20297|\n",
      "|        Email|    408|\n",
      "+-------------+-------+\n",
      "\n",
      "+----------------+-------+\n",
      "|timely_response?|  count|\n",
      "+----------------+-------+\n",
      "|             Yes|1439485|\n",
      "|              No|  35083|\n",
      "+----------------+-------+\n",
      "\n",
      "+------------------+------+\n",
      "|consumer_disputed?| count|\n",
      "+------------------+------+\n",
      "|              null|706088|\n",
      "|                No|620102|\n",
      "|               Yes|148378|\n",
      "+------------------+------+\n",
      "\n"
     ]
    }
   ],
   "source": [
    "df.groupBy('submitted_via').count().sort('count', ascending=False).show()\n",
    "df.groupBy('timely_response?').count().sort('count', ascending=False).show()\n",
    "df.groupBy('consumer_disputed?').count().sort('count', ascending=False).show()"
   ]
  },
  {
   "cell_type": "markdown",
   "metadata": {},
   "source": [
    "## Shut down the SparkSession"
   ]
  },
  {
   "cell_type": "code",
   "execution_count": 34,
   "metadata": {},
   "outputs": [],
   "source": [
    "spark.stop()"
   ]
  },
  {
   "cell_type": "code",
   "execution_count": null,
   "metadata": {},
   "outputs": [],
   "source": []
  }
 ],
 "metadata": {
  "kernelspec": {
   "display_name": "Python (pyspark-env)\n",
   "language": "python",
   "name": "pyspark-env"
  },
  "language_info": {
   "codemirror_mode": {
    "name": "ipython",
    "version": 3
   },
   "file_extension": ".py",
   "mimetype": "text/x-python",
   "name": "python",
   "nbconvert_exporter": "python",
   "pygments_lexer": "ipython3",
   "version": "3.7.4"
  }
 },
 "nbformat": 4,
 "nbformat_minor": 2
}
